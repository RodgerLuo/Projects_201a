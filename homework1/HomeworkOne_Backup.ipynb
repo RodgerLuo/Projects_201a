{
 "metadata": {
  "name": "",
  "signature": "sha256:a314826a34624e64038ad950251ef0bcd53dec30a47473019c59d4893b5fadcd"
 },
 "nbformat": 3,
 "nbformat_minor": 0,
 "worksheets": [
  {
   "cells": [
    {
     "cell_type": "code",
     "collapsed": false,
     "input": [
      "import csv\n",
      "from pylab import *\n",
      "\n",
      "salary = []\n",
      "countries = []\n",
      "years = []\n",
      "counter = 0\n",
      "\n",
      "with open('dataOne.csv', newline='', encoding='utf-8') as f:\n",
      "    reader = csv.reader(f)\n",
      "\n",
      "    for row in reader:\n",
      "        salary.append(row);\n",
      "\n",
      "for i in range(0, len(salary)):\n",
      "    for j in range(0, len(row)):\n",
      "        salary[i][j] = float(salary[i][j])\n",
      "\n",
      "with open('countries.csv', newline='', encoding='utf-8') as g:\n",
      "    readerCountries = csv.reader(g)\n",
      "    \n",
      "    for row in readerCountries:\n",
      "        countries.append(row[0])\n",
      "        years.append(row[1])\n",
      "        \n",
      "figure(figsize(20,10))\n",
      "imshow(salary, interpolation='nearest', vmin=0, vmax=50)\n",
      "grid(True)\n",
      "x = np.array(range(0,34,2))\n",
      "y = np.array(range(34))\n",
      "plt.yticks(y, countries)\n",
      "plt.xticks(x, years)\n",
      "colorbar()\n",
      "title('Hourly Direct Pay in Manufacturing, U.S. Dollars, 1996-2012')\n",
      "print(len(salary))"
     ],
     "language": "python",
     "metadata": {},
     "outputs": [
      {
       "ename": "IndexError",
       "evalue": "list assignment index out of range",
       "output_type": "pyerr",
       "traceback": [
        "\u001b[0;31m---------------------------------------------------------------------------\u001b[0m\n\u001b[0;31mIndexError\u001b[0m                                Traceback (most recent call last)",
        "\u001b[0;32m<ipython-input-277-7a71522fc261>\u001b[0m in \u001b[0;36m<module>\u001b[0;34m()\u001b[0m\n\u001b[1;32m     18\u001b[0m             \u001b[0msalary\u001b[0m\u001b[0;34m[\u001b[0m\u001b[0mi\u001b[0m\u001b[0;34m]\u001b[0m\u001b[0;34m[\u001b[0m\u001b[0mj\u001b[0m\u001b[0;34m]\u001b[0m \u001b[0;34m=\u001b[0m \u001b[0mfloat\u001b[0m\u001b[0;34m(\u001b[0m\u001b[0msalary\u001b[0m\u001b[0;34m[\u001b[0m\u001b[0mi\u001b[0m\u001b[0;34m]\u001b[0m\u001b[0;34m[\u001b[0m\u001b[0mj\u001b[0m\u001b[0;34m]\u001b[0m\u001b[0;34m)\u001b[0m\u001b[0;34m\u001b[0m\u001b[0m\n\u001b[1;32m     19\u001b[0m         \u001b[0;32melse\u001b[0m\u001b[0;34m:\u001b[0m\u001b[0;34m\u001b[0m\u001b[0m\n\u001b[0;32m---> 20\u001b[0;31m             \u001b[0msalary\u001b[0m\u001b[0;34m[\u001b[0m\u001b[0mi\u001b[0m\u001b[0;34m]\u001b[0m\u001b[0;34m[\u001b[0m\u001b[0mj\u001b[0m\u001b[0;34m]\u001b[0m \u001b[0;34m=\u001b[0m \u001b[0;36m0\u001b[0m\u001b[0;34m\u001b[0m\u001b[0m\n\u001b[0m\u001b[1;32m     21\u001b[0m \u001b[0;34m\u001b[0m\u001b[0m\n\u001b[1;32m     22\u001b[0m \u001b[0;32mwith\u001b[0m \u001b[0mopen\u001b[0m\u001b[0;34m(\u001b[0m\u001b[0;34m'countries.csv'\u001b[0m\u001b[0;34m,\u001b[0m \u001b[0mnewline\u001b[0m\u001b[0;34m=\u001b[0m\u001b[0;34m''\u001b[0m\u001b[0;34m,\u001b[0m \u001b[0mencoding\u001b[0m\u001b[0;34m=\u001b[0m\u001b[0;34m'utf-8'\u001b[0m\u001b[0;34m)\u001b[0m \u001b[0;32mas\u001b[0m \u001b[0mg\u001b[0m\u001b[0;34m:\u001b[0m\u001b[0;34m\u001b[0m\u001b[0m\n",
        "\u001b[0;31mIndexError\u001b[0m: list assignment index out of range"
       ]
      }
     ],
     "prompt_number": 277
    },
    {
     "cell_type": "code",
     "collapsed": false,
     "input": [],
     "language": "python",
     "metadata": {},
     "outputs": []
    }
   ],
   "metadata": {}
  }
 ]
}